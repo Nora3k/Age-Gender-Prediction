{
 "cells": [
  {
   "cell_type": "code",
   "execution_count": null,
   "metadata": {
    "colab": {
     "base_uri": "https://localhost:8080/"
    },
    "executionInfo": {
     "elapsed": 19310,
     "status": "ok",
     "timestamp": 1660341558303,
     "user": {
      "displayName": "Thuan Luong",
      "userId": "16249982071435552889"
     },
     "user_tz": -420
    },
    "id": "AYzun0TyIZQj",
    "outputId": "591db219-30b3-4f09-86da-c68e5b462979"
   },
   "outputs": [],
   "source": [
    "#kết nối google colab với drive\n",
    "from google.colab import drive\n",
    "drive.mount('/content/drive')"
   ]
  },
  {
   "cell_type": "code",
   "execution_count": null,
   "metadata": {},
   "outputs": [],
   "source": [
    "#Remove file when unzip error\n",
    "# %cd /content/drive/MyDrive/\n",
    "# from os import listdir, remove\n",
    "# for file in listdir(\"/content/drive/MyDrive/\"):\n",
    "#   if file != \"AI\" and file != \"mother\":\n",
    "#     remove(file)\n"
   ]
  },
  {
   "cell_type": "markdown",
   "metadata": {},
   "source": [
    "Giải nén thư viện UTKFace"
   ]
  },
  {
   "cell_type": "code",
   "execution_count": null,
   "metadata": {
    "executionInfo": {
     "elapsed": 31,
     "status": "ok",
     "timestamp": 1660341558305,
     "user": {
      "displayName": "Thuan Luong",
      "userId": "16249982071435552889"
     },
     "user_tz": -420
    },
    "id": "HpxluPML4Idx"
   },
   "outputs": [],
   "source": [
    "%cd /content\n",
    "!unzip /content/drive/MyDrive/AI/data/UTKFace.zip -d /content/drive/MyDrive/AI/data"
   ]
  },
  {
   "cell_type": "markdown",
   "metadata": {},
   "source": [
    "Load các thư viện cần sử dụng"
   ]
  },
  {
   "cell_type": "code",
   "execution_count": null,
   "metadata": {
    "executionInfo": {
     "elapsed": 30,
     "status": "ok",
     "timestamp": 1660341558306,
     "user": {
      "displayName": "Thuan Luong",
      "userId": "16249982071435552889"
     },
     "user_tz": -420
    },
    "id": "EGdpO-dE6qcy"
   },
   "outputs": [],
   "source": [
    "%cd /content/drive/MyDrive/AI/\n",
    "!pip install -r requirements.txt"
   ]
  },
  {
   "cell_type": "markdown",
   "metadata": {},
   "source": [
    "Chuyển đổi ảnh về dạng data bao gồm các label về tuổi và giới tính. \n",
    "Trong đó có 8 khoảng độ tuổi và 2 loại giới tính.\n",
    "Do tập dữ liệu lớn mà colab thì có hạn nên trong bài mình chỉ dùng 1 phần data để detect trong 8 khoảng độ tuổi từ 8-80 tuổi.\n",
    "Các khoảng độ tuổi bao gồm: \"8-12\", \"13-18\", \"19-25\", \"26-32\", \"33-44\", \"45-55\", \"56-70\", \"71-80\"."
   ]
  },
  {
   "cell_type": "code",
   "execution_count": null,
   "metadata": {},
   "outputs": [],
   "source": [
    "%cd /content/drive/MyDrive/AI/code\n",
    "from ProcessDataColab import save_data\n",
    "\n",
    "save_data(\"/content/drive/MyDrive/AI/data/UTKFace/\", \"/content/drive/MyDrive/AI/data/age_gender_file.dat\")"
   ]
  },
  {
   "cell_type": "markdown",
   "metadata": {},
   "source": [
    "Load thư viện và train.\n",
    "Sau đó dùng file TestDataColab để test độ chính xác của quá trình train model."
   ]
  },
  {
   "cell_type": "code",
   "execution_count": null,
   "metadata": {},
   "outputs": [],
   "source": [
    "%cd /content/drive/MyDrive/AI/code\n",
    "from TrainDataColab import load_data, split_data, VGG_face"
   ]
  },
  {
   "cell_type": "code",
   "execution_count": null,
   "metadata": {
    "colab": {
     "base_uri": "https://localhost:8080/"
    },
    "id": "8m7GSsbB56jT",
    "outputId": "a97d0d87-7694-4ca6-fb69-0c4143eb6bb8"
   },
   "outputs": [],
   "source": [
    "pixels, labels_age, labels_gender = load_data(\"/content/drive/MyDrive/AI/data/age_gender_file.dat\")\n",
    "print(pixels.shape, labels_age.shape, labels_gender.shape)"
   ]
  },
  {
   "cell_type": "code",
   "execution_count": null,
   "metadata": {},
   "outputs": [],
   "source": [
    "x_train_age, x_test_age, y_train_age, y_test_age = split_data(pixels, labels_age)\n",
    "VGG_face(x_train_age, x_test_age, y_train_age, y_test_age, 8, \"/content/drive/MyDrive/AI/models/modelage.h5\")"
   ]
  },
  {
   "cell_type": "code",
   "execution_count": null,
   "metadata": {
    "id": "MD9hthCBDBUQ"
   },
   "outputs": [],
   "source": [
    "x_train_gender, x_test_gender, y_train_gender, y_test_gender = split_data(pixels, labels_gender)\n",
    "VGG_face(x_train_gender, x_test_gender, y_train_gender, y_test_gender, 2, \"/content/drive/MyDrive/AI/models/modelgender.h5\")"
   ]
  },
  {
   "cell_type": "markdown",
   "metadata": {
    "id": "e1U2n0OY5QCb"
   },
   "source": []
  }
 ],
 "metadata": {
  "accelerator": "GPU",
  "colab": {
   "authorship_tag": "ABX9TyO+RagKwLx6WdXS/Hyiaxq+",
   "collapsed_sections": [],
   "name": "Age_Gender_Detection.ipynb",
   "provenance": []
  },
  "gpuClass": "standard",
  "kernelspec": {
   "display_name": "Python 3.9.12 ('detect')",
   "language": "python",
   "name": "python3"
  },
  "language_info": {
   "codemirror_mode": {
    "name": "ipython",
    "version": 3
   },
   "file_extension": ".py",
   "mimetype": "text/x-python",
   "name": "python",
   "nbconvert_exporter": "python",
   "pygments_lexer": "ipython3",
   "version": "3.9.12"
  },
  "vscode": {
   "interpreter": {
    "hash": "a409904ab2a4d49023d6e760dba804ef3aa5b58c45cf425e6f5407412decffe8"
   }
  }
 },
 "nbformat": 4,
 "nbformat_minor": 1
}
